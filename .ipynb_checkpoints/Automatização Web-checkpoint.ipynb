{
 "cells": [
  {
   "cell_type": "code",
   "execution_count": null,
   "id": "af20863a",
   "metadata": {},
   "outputs": [],
   "source": [
    "from selenium import webdriver\n",
    "from selenium.webdriver.common.keys import Keys\n",
    "navegador = webdriver.Chrome()\n",
    "navegador.get(\"https://www.google.com.br\")\n",
    "navegador.find_element(\"xpath\", '/html/body/div[1]/div[3]/form/div[1]/div[1]/div[1]/div/div[2]/input').send_keys(\"cotação dolar\")\n",
    "navegador.find_element(\"xpath\", '/html/body/div[1]/div[3]/form/div[1]/div[1]/div[1]/div/div[2]/input').send_keys(Keys.ENTER)\n",
    "cotacao_dolar = navegador.find_element(\"xpath\", '//*[@id=\"knowledge-currency__updatable-data-column\"]/div[1]/div[2]/span[1]').get_attribute(\"data-value\")\n",
    "display(cotacao_dolar)\n",
    "navegador = webdriver.Chrome()\n",
    "navegador.get(\"https://www.google.com.br\")\n",
    "navegador.find_element(\"xpath\", '/html/body/div[1]/div[3]/form/div[1]/div[1]/div[1]/div/div[2]/input').send_keys(\"cotação euro\")\n",
    "navegador.find_element(\"xpath\", '/html/body/div[1]/div[3]/form/div[1]/div[1]/div[1]/div/div[2]/input').send_keys(Keys.ENTER)\n",
    "cotacao_euro = navegador.find_element(\"xpath\", '//*[@id=\"knowledge-currency__updatable-data-column\"]/div[1]/div[2]/span[1]').get_attribute(\"data-value\")\n",
    "display(cotacao_euro)\n",
    "navegador.get(\"https://www.melhorcambio.com/ouro-hoje\")\n",
    "cotacao_ouro = navegador.find_element('xpath', '//*[@id=\"comercial\"]').get_attribute('value')\n",
    "cotacao_ouro = cotacao_ouro.replace(',','.')\n",
    "display(cotacao_ouro)\n",
    "navegador.quit()\n",
    "import pandas as pd\n",
    "tabela = pd.read_excel(\"Produtos.xlsx\")\n",
    "display(tabela)\n",
    "import pandas as pd\n",
    "tabela = pd.read_excel(\"Produtos.xlsx\")\n",
    "display(tabela)\n",
    "tabela.loc[tabela[\"Moeda\"]==\"Dólar\", \"Cotação\"] = float(cotacao_dolar)\n",
    "tabela.loc[tabela[\"Moeda\"]==\"Euro\", \"Cotação\"] = float(cotacao_euro)\n",
    "tabela.loc[tabela[\"Moeda\"]==\"Ouro\", \"Cotação\"] = float(cotacao_ouro)\n",
    "tabela[\"Preço de Compra\"] = tabela [\"Preço Original\"]*tabela[\"Cotação\"]\n",
    "tabela[\"Preço de Venda\"] = tabela [\"Preço de Compra\"]*tabela[\"Margem\"]\n",
    "display(tabela)\n",
    "tabela.to_excel(\"Produtos Novo.xlsx\", index=False)\n",
    "display(\"Está pronto!\")"
   ]
  },
  {
   "cell_type": "code",
   "execution_count": null,
   "id": "6e0d2353",
   "metadata": {},
   "outputs": [],
   "source": []
  }
 ],
 "metadata": {
  "kernelspec": {
   "display_name": "Python 3 (ipykernel)",
   "language": "python",
   "name": "python3"
  },
  "language_info": {
   "codemirror_mode": {
    "name": "ipython",
    "version": 3
   },
   "file_extension": ".py",
   "mimetype": "text/x-python",
   "name": "python",
   "nbconvert_exporter": "python",
   "pygments_lexer": "ipython3",
   "version": "3.9.12"
  }
 },
 "nbformat": 4,
 "nbformat_minor": 5
}
